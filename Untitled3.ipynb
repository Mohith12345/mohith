{
  "nbformat": 4,
  "nbformat_minor": 0,
  "metadata": {
    "colab": {
      "name": "Untitled3.ipynb",
      "provenance": [],
      "authorship_tag": "ABX9TyNXpimx9OX0oKhFIUVNpDsI",
      "include_colab_link": true
    },
    "kernelspec": {
      "name": "python3",
      "display_name": "Python 3"
    }
  },
  "cells": [
    {
      "cell_type": "markdown",
      "metadata": {
        "id": "view-in-github",
        "colab_type": "text"
      },
      "source": [
        "<a href=\"https://colab.research.google.com/github/Mohith12345/mohith/blob/master/Untitled3.ipynb\" target=\"_parent\"><img src=\"https://colab.research.google.com/assets/colab-badge.svg\" alt=\"Open In Colab\"/></a>"
      ]
    },
    {
      "cell_type": "code",
      "metadata": {
        "id": "TLN5Qa-l8Qb5",
        "colab_type": "code",
        "colab": {
          "base_uri": "https://localhost:8080/",
          "height": 68
        },
        "outputId": "e0704257-f8c0-4a2c-d3f7-ab34cfba1a0e"
      },
      "source": [
        "a=int(input(\"enter value of a:\"))\n",
        "b=int(input(\"enter value of b:\"))\n",
        "print(\"sum of a and b is:\",a+b)"
      ],
      "execution_count": 11,
      "outputs": [
        {
          "output_type": "stream",
          "text": [
            "enter value of a:2\n",
            "enter value of b:3\n",
            "sum of a and b is: 5\n"
          ],
          "name": "stdout"
        }
      ]
    }
  ]
}